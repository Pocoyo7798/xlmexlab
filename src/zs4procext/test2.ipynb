{
 "cells": [
  {
   "cell_type": "code",
   "execution_count": 1,
   "metadata": {},
   "outputs": [],
   "source": [
    "import json\n",
    "import re\n",
    "from zs4procext.parser import ParametersParser, ActionsParser, SchemaParser, KeywordSearching, DimensionlessParser\n",
    "from zs4procext.actions import Chemical, Actions, CollectLayer, Triturate, Sonicate, Recrystallize, Partition,Degas, Purify, Wait, Wash, Quench, Reflux, Extract, Filter, MakeSolution, Add, Stir, SetTemperature, Concentrate, PhaseSeparation, DrySolution, DrySolid\n",
    "from zs4procext.prompt import PromptFormatter\n",
    "from zs4procext.evaluator import Evaluator"
   ]
  },
  {
   "cell_type": "code",
   "execution_count": 5,
   "metadata": {},
   "outputs": [
    {
     "name": "stdout",
     "output_type": "stream",
     "text": [
      "You are an expert on organic synthesis.\n",
      "Take your time and extract information as truthfully as possible using the provided context. If any information is not provided or you are unsure, use 'N/A'.\n",
      "Create an action graph from the following paragraph:\n",
      "'To a solution of 20 (390.9 g, 1.11 mol) and SbCl3 (7.62 g, 0.0334 mol) in anhydrous dichloromethane (2.27 L) at −15° C., diethylamino sulfurtrifluoride (DAST) (258 ml, 2.0 mol) was added drop-wise. The reaction mixture was stirred for 3 hours at −20° C. and then allowed to warm up to room temperature overnight. The reaction was quenched with 1N NaOH solution until pH=3-4 at −20° C., and then solid NaHCO3 was added to pH=8. The organic layer was separated and the aqueous solution was extracted with dichloromethane. The combined organic extracts were washed with water, brine, dried over Na2SO4 and concentrated to provide 330 g of the desired product as a brown oil.'\n",
      "To create the action graph use only some the following actions, adding all the necessary information and repeating them if needed:\n",
      "-'Add' : Add, mix or pour a new compound into a solution, indicate time, temperature and pressure of the addition if possible;\n",
      "-'Cool' : Reducing the temperature of a mixture;\n",
      "-'Heat' : Increasing the temperature of a mixture;\n",
      "-'SetTemperature' : Specifying a temperature change;\n",
      "-'Stir' : Stirring or agitation operation, give information about time and temperature of the 'stir' operation;\n",
      "-'Concentrate' : Evaporation of a substance to concentrate or semi concentrate;\n",
      "-'DrySolution' : Drying a solution;\n",
      "-'CollectLayer' : Collect a organic or aqueous layer;\n",
      "-'Extract' : Extraction of a compound using a solvent;\n",
      "-'Wash' : Cleaning or washing a substance;\n",
      "-'MakeSolution' : Preparing a solution initially, indicate quantities of the solvent and compounds when possible;\n",
      "-'Filter' : Filtering or centrifuge operation;\n",
      "-'Recrystalize' : Recrystalization or crystallization operation;\n",
      "-'Purify' : Purification or chromatography operation;\n",
      "-'Quench' : Quenching operation;\n",
      "-'PhaseSeparation' : Separation or fractionation between organic phase and aqueous phase layers;\n",
      "-'AdjustPH' : Change the mixture pH;\n",
      "-'Reflux' : Reflux operation;\n",
      "-'DrySolid' : Dry operation applied on a solid product;\n",
      "-'Degas' : Desgasification or purge of the solution with gas;\n",
      "-'Partition' : Addition of 2 immiscible solvents for a phase separation;\n",
      "-'Sonicate' : Agitation with soundwaves;\n",
      "-'Triturate' : Triturate the residue;\n",
      "-'FinalProduct' : Final product obtained with the synthesis procedure and yield;\n",
      "-'Wait' : Time passing with no action;\n",
      "-'FollowOtherProcedure' : Other procedure used, specify the procedure.\n",
      "Good Luck!!\n",
      "('duration', ['180.0 minute', 'overnight'])\n",
      "('temperature', ['room temperature'])\n",
      "('pressure', [])\n",
      "('atmosphere', [])\n",
      "('amount', {'value': ['390900.0 milligram', '1110.0 millimole', '7620.0 milligram', '33.4 millimole', '2270.0000000000005 milliliter', '258.0 milliliter', '2000.0 millimole', '330000.0 milligram'], 'repetitions': [1, 1, 1, 1, 1, 1, 1, 1]})\n",
      "('other', ['1.0 N'])\n"
     ]
    },
    {
     "data": {
      "text/plain": [
       "'parser = ActionsParser(text=txt)\\nparser.initialize()\\nmatches = parser.parse(txt)\\ni = 0\\nfor action in matches[\"actions\"]:\\n    print(f\"Action: {action}\")\\n    print(f\"Content: {repr(matches[\\'content\\'][i])}\")\\n    i += 1'"
      ]
     },
     "execution_count": 5,
     "metadata": {},
     "output_type": "execute_result"
    }
   ],
   "source": [
    "with open(\"resources/Mistral-7B-Instruct_inference_example.json\", \"r\") as f:\n",
    "    examples = json.load(f)\n",
    "txt = examples[\"examples\"][1][\"prompt\"]\n",
    "print(txt)\n",
    "ph_reg = r\"(\\b[pP][hH]\\b)[\\D\\s=]*(\\+?-?\\d+\\b(\\.?,?\\d+)?\\b-*\\b(\\d*\\.?,?\\d+)?\\b)\"\n",
    "parser = ParametersParser()\n",
    "parser.model_post_init(None)\n",
    "matches = parser.get_parameters(txt)\n",
    "for match in matches:\n",
    "    print(match)\n",
    "\n",
    "\"\"\"parser = ActionsParser(text=txt)\n",
    "parser.initialize()\n",
    "matches = parser.parse(txt)\n",
    "i = 0\n",
    "for action in matches[\"actions\"]:\n",
    "    print(f\"Action: {action}\")\n",
    "    print(f\"Content: {repr(matches['content'][i])}\")\n",
    "    i += 1\"\"\"\n"
   ]
  },
  {
   "cell_type": "code",
   "execution_count": 2,
   "metadata": {},
   "outputs": [
    {
     "name": "stdout",
     "output_type": "stream",
     "text": [
      "{\"chemical\" : \"N/A\", \"amount\": 7 mL, \"dropwise\": True}\n",
      "['{\"chemical\" : \"N/A\", \"amount\": 7 mL, \"dropwise\": True}']\n"
     ]
    }
   ],
   "source": [
    "with open(\"resources/Llama-70B_response_chemicals.json\", \"r\") as f:\n",
    "    examples = json.load(f)\n",
    "\n",
    "string = '{\"chemical\" : \"N/A\", \"amount\": 7 mL, \"dropwise\": True}'\n",
    "atributes = [\"chemical\", \"dropwise\"]\n",
    "schema_parser = SchemaParser(atributes_list=atributes)\n",
    "print(string)\n",
    "schema_parser.model_post_init(None)\n",
    "quantity_parser = ParametersParser(time=False, temperature=False, pressure=False)\n",
    "quantity_parser.model_post_init(None)\n",
    "results = schema_parser.parse_schema(string)\n",
    "print(results)"
   ]
  },
  {
   "cell_type": "code",
   "execution_count": 3,
   "metadata": {},
   "outputs": [
    {
     "name": "stdout",
     "output_type": "stream",
     "text": [
      "water\n",
      "N/A\n",
      "{'action': 'Add', 'content': {'material': {'name': 'water', 'quantity': ['7.0 milliliter']}, 'dropwise': True, 'temperature': None, 'atmosphere': None, 'duration': None}}\n"
     ]
    }
   ],
   "source": [
    "microwave_keywords = [\"microwave\", \"microwaves\"]\n",
    "organic_keywords = [\"organic\", \"org\", \"hydrophobic\"]\n",
    "aqueous_keywords = [\"aqueous\", \"aq\", \"hydrophilic\", \"water\", \"aquatic\"]\n",
    "filtrate_keywords = [\"filtrate\", \"lixiviate\", \"percolate\", \"permeate\", \"liquid\"]\n",
    "precipitate_keywords = [\"precipitate\", \"residue\", \"filter cake\", \"sludge\", \"solid\"]\n",
    "ph_parser = KeywordSearching(keywords_list=[\"ph\"])\n",
    "ph_parser.model_post_init(None)\n",
    "microwave_parser = KeywordSearching(keywords_list=microwave_keywords)\n",
    "microwave_parser.model_post_init(None)\n",
    "organic_parser = KeywordSearching(keywords_list=organic_keywords)\n",
    "aqueous_parser = KeywordSearching(keywords_list=aqueous_keywords)\n",
    "organic_parser.model_post_init(None)\n",
    "aqueous_parser.model_post_init(None)\n",
    "filtrate_parser = KeywordSearching(keywords_list=filtrate_keywords)\n",
    "precipitate_parser = KeywordSearching(keywords_list=precipitate_keywords)\n",
    "filtrate_parser.model_post_init(None)\n",
    "precipitate_parser.model_post_init(None)\n",
    "context = \"#\"\n",
    "schemas = ['{\"chemical\" : \"water\", \"amount\": 7 mL, \"dropwise\": True}', '{\"chemical\" : \"N/A\", \"amount\": 7 mL, \"dropwise\": True}']\n",
    "atributes = [\"chemical\", \"dropwise\"]\n",
    "schema_parser = SchemaParser(atributes_list=atributes)\n",
    "schema_parser.model_post_init(None)\n",
    "quantity_parser = ParametersParser(time=False, temperature=False, pressure=False)\n",
    "quantity_parser.model_post_init(None)\n",
    "conditions_parser = ParametersParser()\n",
    "conditions_parser.model_post_init(None)\n",
    "actions = Add.generate_action(context, schemas, schema_parser, quantity_parser, conditions_parser, ph_parser)\n",
    "#actions = MakeSolution.generate_action(context, schemas, schema_parser, quantity_parser, conditions_parser)\n",
    "#actions = Stir.generate_action(context, conditions_parser)\n",
    "#actions = SetTemperature.generate_action(context, conditions_parser, microwave_parser)\n",
    "#actions = Concentrate.generate_action(context)\n",
    "#actions = Extract.generate_action(context, schemas, schema_parser, quantity_parser)\n",
    "#actions = DrySolution.generate_action(context, schemas, schema_parser, quantity_parser)\n",
    "#actions = Quench.generate_action(context, schemas, schema_parser, quantity_parser, conditions_parser)\n",
    "#actions = Wait.generate_action(context, conditions_parser)\n",
    "#actions = PhaseSeparation.generate_action(context)\n",
    "#actions = CollectLayer.generate_action(context, aqueous_parser, organic_parser)\n",
    "#actions = Reflux.generate_action(context, conditions_parser)\n",
    "#actions = Wash.generate_action(context, schemas, schema_parser, quantity_parser)\n",
    "#actions = DrySolid.generate_action(context, conditions_parser)\n",
    "#actions = Filter.generate_action(context, filtrate_parser, precipitate_parser)\n",
    "#actions = Purify.generate_action(context)\n",
    "#actions = Recrystallize.generate_action(context, schemas, schema_parser, quantity_parser, conditions_parser)\n",
    "#actions = Degas.generate_action(context, conditions_parser)\n",
    "#actions = Partition.generate_action(context, schemas, schema_parser, quantity_parser)\n",
    "#actions = Sonicate.generate_action(context, conditions_parser)\n",
    "#actions = Triturate.generate_action(context, schemas, schema_parser, quantity_parser)\n",
    "for action in actions:\n",
    "    print(action)\n"
   ]
  },
  {
   "cell_type": "code",
   "execution_count": null,
   "metadata": {},
   "outputs": [],
   "source": []
  },
  {
   "cell_type": "code",
   "execution_count": 3,
   "metadata": {},
   "outputs": [
    {
     "name": "stdout",
     "output_type": "stream",
     "text": [
      "1\n",
      "1\n",
      "0\n",
      "0\n",
      "0\n",
      "1\n"
     ]
    }
   ],
   "source": [
    "dataset_path = \"resources/evaluation_test.txt\"\n",
    "evaluator: Evaluator = Evaluator(reference_dataset_path=dataset_path)\n",
    "actions_eval = evaluator.evaluate_actions(dataset_path)\n",
    "sequence_eval = evaluator.evaluate_actions_order(dataset_path)"
   ]
  },
  {
   "cell_type": "code",
   "execution_count": 6,
   "metadata": {},
   "outputs": [
    {
     "name": "stdout",
     "output_type": "stream",
     "text": [
      "onlyconditions\n"
     ]
    }
   ],
   "source": [
    "print(Stir.type)"
   ]
  },
  {
   "cell_type": "code",
   "execution_count": 5,
   "metadata": {},
   "outputs": [
    {
     "name": "stdout",
     "output_type": "stream",
     "text": [
      "[1, 2, 3, 7]\n"
     ]
    }
   ],
   "source": [
    "list1 = [1,2,3,4,5,6,7]\n",
    "threshold = 3\n",
    "i = 5\n",
    "print(list1[:i - threshold + 1] + list1[i + 1:])"
   ]
  },
  {
   "cell_type": "code",
   "execution_count": null,
   "metadata": {},
   "outputs": [],
   "source": []
  }
 ],
 "metadata": {
  "kernelspec": {
   "display_name": "DANI",
   "language": "python",
   "name": "python3"
  },
  "language_info": {
   "codemirror_mode": {
    "name": "ipython",
    "version": 3
   },
   "file_extension": ".py",
   "mimetype": "text/x-python",
   "name": "python",
   "nbconvert_exporter": "python",
   "pygments_lexer": "ipython3",
   "version": "3.10.13"
  }
 },
 "nbformat": 4,
 "nbformat_minor": 2
}
